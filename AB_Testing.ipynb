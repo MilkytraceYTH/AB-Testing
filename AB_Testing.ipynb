{
 "cells": [
  {
   "cell_type": "code",
   "execution_count": 2,
   "metadata": {},
   "outputs": [],
   "source": [
    "# import libraries\n",
    "import pandas as pd\n",
    "import numpy as np"
   ]
  },
  {
   "cell_type": "code",
   "execution_count": 3,
   "metadata": {},
   "outputs": [],
   "source": [
    "# read in the data\n",
    "df = pd.read_csv(\"AB_test_data.csv\")"
   ]
  },
  {
   "cell_type": "code",
   "execution_count": 4,
   "metadata": {},
   "outputs": [
    {
     "data": {
      "text/html": [
       "<div>\n",
       "<style scoped>\n",
       "    .dataframe tbody tr th:only-of-type {\n",
       "        vertical-align: middle;\n",
       "    }\n",
       "\n",
       "    .dataframe tbody tr th {\n",
       "        vertical-align: top;\n",
       "    }\n",
       "\n",
       "    .dataframe thead th {\n",
       "        text-align: right;\n",
       "    }\n",
       "</style>\n",
       "<table border=\"1\" class=\"dataframe\">\n",
       "  <thead>\n",
       "    <tr style=\"text-align: right;\">\n",
       "      <th></th>\n",
       "      <th>Variant</th>\n",
       "      <th>purchase_TF</th>\n",
       "      <th>date</th>\n",
       "      <th>id</th>\n",
       "    </tr>\n",
       "  </thead>\n",
       "  <tbody>\n",
       "    <tr>\n",
       "      <th>0</th>\n",
       "      <td>A</td>\n",
       "      <td>False</td>\n",
       "      <td>2019-12-26</td>\n",
       "      <td>0x6f9421</td>\n",
       "    </tr>\n",
       "    <tr>\n",
       "      <th>1</th>\n",
       "      <td>A</td>\n",
       "      <td>False</td>\n",
       "      <td>2019-08-16</td>\n",
       "      <td>0x59d442</td>\n",
       "    </tr>\n",
       "    <tr>\n",
       "      <th>2</th>\n",
       "      <td>A</td>\n",
       "      <td>True</td>\n",
       "      <td>2019-03-18</td>\n",
       "      <td>0x6db8f8</td>\n",
       "    </tr>\n",
       "    <tr>\n",
       "      <th>3</th>\n",
       "      <td>A</td>\n",
       "      <td>False</td>\n",
       "      <td>2019-02-13</td>\n",
       "      <td>0x68245d</td>\n",
       "    </tr>\n",
       "    <tr>\n",
       "      <th>4</th>\n",
       "      <td>A</td>\n",
       "      <td>False</td>\n",
       "      <td>2019-09-28</td>\n",
       "      <td>0x28566e</td>\n",
       "    </tr>\n",
       "  </tbody>\n",
       "</table>\n",
       "</div>"
      ],
      "text/plain": [
       "  Variant  purchase_TF        date        id\n",
       "0       A        False  2019-12-26  0x6f9421\n",
       "1       A        False  2019-08-16  0x59d442\n",
       "2       A         True  2019-03-18  0x6db8f8\n",
       "3       A        False  2019-02-13  0x68245d\n",
       "4       A        False  2019-09-28  0x28566e"
      ]
     },
     "execution_count": 4,
     "metadata": {},
     "output_type": "execute_result"
    }
   ],
   "source": [
    "# inspect data\n",
    "df.head()"
   ]
  },
  {
   "cell_type": "code",
   "execution_count": 5,
   "metadata": {},
   "outputs": [
    {
     "data": {
      "text/plain": [
       "False    46416\n",
       "True      8584\n",
       "Name: purchase_TF, dtype: int64"
      ]
     },
     "execution_count": 5,
     "metadata": {},
     "output_type": "execute_result"
    }
   ],
   "source": [
    "df['purchase_TF'].value_counts()"
   ]
  },
  {
   "cell_type": "code",
   "execution_count": 6,
   "metadata": {},
   "outputs": [
    {
     "data": {
      "text/plain": [
       "A    50000\n",
       "B     5000\n",
       "Name: Variant, dtype: int64"
      ]
     },
     "execution_count": 6,
     "metadata": {},
     "output_type": "execute_result"
    }
   ],
   "source": [
    "df['Variant'].value_counts()"
   ]
  },
  {
   "cell_type": "markdown",
   "metadata": {},
   "source": [
    "Hypothesis setup:\n",
    "    - Null Hypothesis: Variant B and Variant A had the same conversion rates\n",
    "    - Alternative hypothesis: Variant B had a higher conversion rate than Variant A"
   ]
  },
  {
   "cell_type": "markdown",
   "metadata": {},
   "source": [
    "##### Conducting the test"
   ]
  },
  {
   "cell_type": "code",
   "execution_count": 7,
   "metadata": {},
   "outputs": [
    {
     "name": "stdout",
     "output_type": "stream",
     "text": [
      "We reject the null. The conversion rate of variant B is significantly higher than that of variant A.\n",
      "Our Z score is 8.692151285198767.\n"
     ]
    }
   ],
   "source": [
    "# calculate our z score\n",
    "p_treatment = df[df[\"Variant\"]==\"B\"]['purchase_TF'].sum()/len(df[df[\"Variant\"]==\"B\"]['purchase_TF'])\n",
    "p_varA = df[df[\"Variant\"]==\"A\"]['purchase_TF'].sum()/len(df[df[\"Variant\"]==\"A\"]['purchase_TF'])\n",
    "n = len(df[df[\"Variant\"]==\"B\"]['purchase_TF'])\n",
    "z = (p_treatment-p_varA)/(((p_varA*(1-p_varA))/n)**0.5)\n",
    "if z > 1.64:\n",
    "    print(\"We reject the null. The conversion rate of variant B is significantly higher than that of variant A.\")\n",
    "    print(\"Our Z score is {}.\".format(z))\n",
    "else:\n",
    "    print(\"Test failed. The old version is not that different from the new in terms of conversion rate.\")"
   ]
  },
  {
   "cell_type": "markdown",
   "metadata": {},
   "source": [
    "With 95% confidence level, Z0.05 = 1.64. Reject null if z > 1.64. Since z is 8.7, **we reject the null hypothesis and conclude that at 95% confidence level, variant B generates more conversion than variant A.**"
   ]
  },
  {
   "cell_type": "markdown",
   "metadata": {},
   "source": [
    "##### Optimal Sample Size"
   ]
  },
  {
   "cell_type": "code",
   "execution_count": 8,
   "metadata": {},
   "outputs": [
    {
     "name": "stdout",
     "output_type": "stream",
     "text": [
      "The optimal sample size for each segment is 1157.8288770933054\n"
     ]
    }
   ],
   "source": [
    "# Calculate optumal sample size\n",
    "t_alpha = 1.96\n",
    "t_beta = 0.842\n",
    "p0 = p_varA\n",
    "p1 = p_treatment\n",
    "delta = p1-p0\n",
    "p_bar = (p0+p1)/2\n",
    "\n",
    "# plug into the formula\n",
    "n_star = ((t_alpha*((2*p_bar*(1-p_bar))**.5)+(t_beta*((p0*(1-p0)+p1*(1-p1))**.5)))**2)*(delta**-2)\n",
    "print(\"The optimal sample size for each segment is {}\".format(n_star))"
   ]
  },
  {
   "cell_type": "code",
   "execution_count": 9,
   "metadata": {},
   "outputs": [],
   "source": [
    "# seperate treatment and control groups\n",
    "A = df[df[\"Variant\"]==\"A\"]\n",
    "B = df[df[\"Variant\"]==\"B\"]"
   ]
  },
  {
   "cell_type": "code",
   "execution_count": 17,
   "metadata": {},
   "outputs": [
    {
     "name": "stdout",
     "output_type": "stream",
     "text": [
      "The challenger wins 100.0% of the time.\n"
     ]
    }
   ],
   "source": [
    "# test using 1-sample \n",
    "\n",
    "log = []\n",
    "for i in range(10):\n",
    "    n = 1158\n",
    "    sample_A = A.sample(n=n)\n",
    "    sample_B = B.sample(n=n)\n",
    "\n",
    "    convA = sample_A['purchase_TF'].sum()/n\n",
    "    convB = sample_B['purchase_TF'].sum()/n\n",
    "\n",
    "    z_sample = (convB-p_varA)/(((p_varA*(1-p_varA))/n)**0.5)\n",
    "    if z_sample >= 1.64:\n",
    "#         print(\"We reject the null hypothesis. Challenger wins!\")\n",
    "        log.append(1)\n",
    "    else:\n",
    "#         print(\"Old version wins!\")\n",
    "        log.append(0)\n",
    "        \n",
    "        \n",
    "print(\"The challenger wins {}% of the time.\".format(sum(log)/len(log)*100))"
   ]
  },
  {
   "cell_type": "code",
   "execution_count": 16,
   "metadata": {},
   "outputs": [
    {
     "name": "stdout",
     "output_type": "stream",
     "text": [
      "The challenger wins 98.0% of the time.\n"
     ]
    }
   ],
   "source": [
    "# test using 2-sample\n",
    "\n",
    "log = []\n",
    "for i in range(100):\n",
    "    n = 1158\n",
    "    sample_A = A.sample(n=n)\n",
    "    sample_B = B.sample(n=n)\n",
    "\n",
    "    convA = sample_A['purchase_TF'].sum()/n\n",
    "    convB = sample_B['purchase_TF'].sum()/n\n",
    "    p_bar_test = (convA+convB)/2\n",
    "\n",
    "    z_sample = (convB-convA)/(((p_bar_test*(1-p_bar_test))*(2/n)**0.5))\n",
    "    \n",
    "    if z_sample >= 1.64:\n",
    "#         print(\"We reject the null hypothesis. Challenger wins!\")\n",
    "        log.append(1)\n",
    "    else:\n",
    "#         print(\"Old version wins!\")\n",
    "        log.append(0)\n",
    "        \n",
    "        \n",
    "print(\"The challenger wins {}% of the time.\".format(sum(log)/len(log)*100))"
   ]
  },
  {
   "cell_type": "markdown",
   "metadata": {},
   "source": [
    "##### Sequential Testing"
   ]
  },
  {
   "cell_type": "markdown",
   "metadata": {},
   "source": [
    "Assume P(Xi=1) under H0 = p-varA and P(Xi=1) under H1 = p-treatment.\n",
    "\n",
    "Set desired type 1 error = 5% and type 2 error = 20%."
   ]
  },
  {
   "cell_type": "code",
   "execution_count": 100,
   "metadata": {},
   "outputs": [
    {
     "name": "stdout",
     "output_type": "stream",
     "text": [
      "Success rate is 80.0%\n"
     ]
    }
   ],
   "source": [
    "# generate samples\n",
    "n = 1158\n",
    "n_trials = 10\n",
    "alpha = .05\n",
    "beta = .2\n",
    "min_diff = p_treatment-p_varA\n",
    "upper_bound = np.log(1/alpha)\n",
    "lower_bound = np.log(beta)\n",
    "\n",
    "# test each observation in the sample:\n",
    "list_of_trials = []\n",
    "number_of_success = 0\n",
    "for j in range(n_trials):\n",
    "    sample_B = B.sample(n=n)\n",
    "    log_lambda_n = 0\n",
    "    for i in range(len(sample_B)):          \n",
    "        if sample_B['purchase_TF'].iloc[i] == True:\n",
    "            log_lambda_xi = np.log(p_treatment/p_varA)\n",
    "#             print(\"positive: {}\".format(log_lambda_xi))                  \n",
    "        else:\n",
    "            log_lambda_xi = np.log((1-p_treatment)/(1-p_varA))\n",
    "#             print(\"negative: {}\".format(log_lambda_xi))\n",
    "\n",
    "        log_lambda_n += log_lambda_xi\n",
    "#         print(log_lambda_n)\n",
    "\n",
    "        if log_lambda_n > upper_bound:\n",
    "#             print(\"Accept H1 after {} trials.\".format(i+1))\n",
    "            number_of_success += 1\n",
    "            break \n",
    "        elif log_lambda_n < lower_bound:\n",
    "#             print(\"Accept Null after {} trials.\".format(i+1))\n",
    "            break\n",
    "#         else:\n",
    "#             print(i,\"We have reached the end of the trial\")\n",
    "            \n",
    "    list_of_trials.append(i+1)\n",
    "    \n",
    "print(\"Success rate is {}%\".format(number_of_success/n_trials*100))\n",
    "    "
   ]
  },
  {
   "cell_type": "code",
   "execution_count": 101,
   "metadata": {},
   "outputs": [
    {
     "data": {
      "text/plain": [
       "239.1"
      ]
     },
     "execution_count": 101,
     "metadata": {},
     "output_type": "execute_result"
    }
   ],
   "source": [
    "np.mean(list_of_trials)"
   ]
  },
  {
   "cell_type": "code",
   "execution_count": 102,
   "metadata": {},
   "outputs": [
    {
     "data": {
      "text/plain": [
       "[522, 330, 194, 71, 226, 290, 273, 145, 201, 139]"
      ]
     },
     "execution_count": 102,
     "metadata": {},
     "output_type": "execute_result"
    }
   ],
   "source": [
    "list_of_trials"
   ]
  }
 ],
 "metadata": {
  "kernelspec": {
   "display_name": "Tracy-venv",
   "language": "python",
   "name": "tracy-venv"
  },
  "language_info": {
   "codemirror_mode": {
    "name": "ipython",
    "version": 3
   },
   "file_extension": ".py",
   "mimetype": "text/x-python",
   "name": "python",
   "nbconvert_exporter": "python",
   "pygments_lexer": "ipython3",
   "version": "3.7.3"
  },
  "toc": {
   "base_numbering": 1,
   "nav_menu": {},
   "number_sections": true,
   "sideBar": true,
   "skip_h1_title": false,
   "title_cell": "Table of Contents",
   "title_sidebar": "Contents",
   "toc_cell": false,
   "toc_position": {},
   "toc_section_display": true,
   "toc_window_display": false
  }
 },
 "nbformat": 4,
 "nbformat_minor": 4
}
